{
 "cells": [
  {
   "cell_type": "markdown",
   "id": "1d4fea2c",
   "metadata": {},
   "source": [
    "# Projeto 2\n",
    "\n",
    "**Disciplina:** C209-L4 – Computação Gráfica e Multimídia\n",
    "\n",
    "**Aluno:** _Matheus Vieira Honório de Souza_\n",
    "\n",
    "**Matrícula:** _525_  \n",
    "\n",
    "---\n",
    "\n",
    "## Descrição do Projeto\n",
    "Este projeto visa aplicar técnicas de computação gráfica e edição de vídeo para transformar uma gravação original em um vídeo final com as seguintes etapas:\n",
    "1. **Gravação do vídeo** lendo o texto fornecido.\n",
    "2. **Inversão da imagem** no eixo (horizontal ou vertical) a cada 20 segundos.\n",
    "3. **Redução gradual do volume**, de modo que os últimos 10 segundos fiquem completamente silenciosos.\n",
    "4. **Corte do vídeo no segundo 60**, pulando direto para o segundo 80.\n",
    "5. **Inserção dos 20 segundos cortados** (60 a 80s) ao final do vídeo.\n",
    "\n",
    "## Plano de Implementação\n",
    "1. Carregar o vídeo original usando `moviepy.editor.VideoFileClip`.\n",
    "2. Aplicar inversão horizontal a cada 20 segundos alternadamente, utilizando `fl` com `np.fliplr` nos frames via `fl_image`.\n",
    "3. Reduzir gradualmente o volume a cada 30 segundos com `audio.fl`, definindo um fator de volume que diminui ao longo do tempo e zera nos últimos 10 segundos.\n",
    "3. Realizar corte temporal: manter o trecho de 0 a 60s, pular para 80s e seguir até o fim. Separar o trecho de 60s a 80s para ser reaproveitado.\n",
    "4. Reorganizar os trechos com `concatenate_videoclips`, unindo: 0-60s + 80-fim + 60-80s.\n",
    "5. Exportar o vídeo final com `write_videofile`, definindo codec `(libx264)` e audio_codec `(aac)`.\n"
   ]
  },
  {
   "cell_type": "markdown",
   "id": "a146cfae",
   "metadata": {},
   "source": [
    "## Instalação da Versão Correta da Biblioteca"
   ]
  },
  {
   "cell_type": "code",
   "execution_count": 3,
   "id": "02f073ed",
   "metadata": {},
   "outputs": [
    {
     "name": "stdout",
     "output_type": "stream",
     "text": [
      "Requirement already satisfied: moviepy==1.0.3 in ./.venv/lib/python3.13/site-packages (1.0.3)\n",
      "Requirement already satisfied: decorator<5.0,>=4.0.2 in ./.venv/lib/python3.13/site-packages (from moviepy==1.0.3) (4.4.2)\n",
      "Requirement already satisfied: imageio<3.0,>=2.5 in ./.venv/lib/python3.13/site-packages (from moviepy==1.0.3) (2.37.0)\n",
      "Requirement already satisfied: imageio_ffmpeg>=0.2.0 in ./.venv/lib/python3.13/site-packages (from moviepy==1.0.3) (0.6.0)\n",
      "Requirement already satisfied: tqdm<5.0,>=4.11.2 in ./.venv/lib/python3.13/site-packages (from moviepy==1.0.3) (4.67.1)\n",
      "Requirement already satisfied: numpy>=1.17.3 in ./.venv/lib/python3.13/site-packages (from moviepy==1.0.3) (2.2.6)\n",
      "Requirement already satisfied: requests<3.0,>=2.8.1 in ./.venv/lib/python3.13/site-packages (from moviepy==1.0.3) (2.32.3)\n",
      "Requirement already satisfied: proglog<=1.0.0 in ./.venv/lib/python3.13/site-packages (from moviepy==1.0.3) (0.1.12)\n",
      "Requirement already satisfied: pillow>=8.3.2 in ./.venv/lib/python3.13/site-packages (from imageio<3.0,>=2.5->moviepy==1.0.3) (11.2.1)\n",
      "Requirement already satisfied: charset-normalizer<4,>=2 in ./.venv/lib/python3.13/site-packages (from requests<3.0,>=2.8.1->moviepy==1.0.3) (3.4.2)\n",
      "Requirement already satisfied: idna<4,>=2.5 in ./.venv/lib/python3.13/site-packages (from requests<3.0,>=2.8.1->moviepy==1.0.3) (3.10)\n",
      "Requirement already satisfied: urllib3<3,>=1.21.1 in ./.venv/lib/python3.13/site-packages (from requests<3.0,>=2.8.1->moviepy==1.0.3) (2.4.0)\n",
      "Requirement already satisfied: certifi>=2017.4.17 in ./.venv/lib/python3.13/site-packages (from requests<3.0,>=2.8.1->moviepy==1.0.3) (2025.4.26)\n",
      "Requirement already satisfied: numpy in ./.venv/lib/python3.13/site-packages (2.2.6)\n"
     ]
    }
   ],
   "source": [
    "# Execute se necessário para garantir a versão correta\n",
    "!pip install moviepy==1.0.3\n",
    "!pip install numpy"
   ]
  },
  {
   "cell_type": "markdown",
   "id": "601b34f4",
   "metadata": {},
   "source": [
    "## Bibliotecas Utilizadas"
   ]
  },
  {
   "cell_type": "code",
   "execution_count": 12,
   "id": "ae74f120",
   "metadata": {},
   "outputs": [],
   "source": [
    "import moviepy.editor as mp\n",
    "import numpy as np"
   ]
  },
  {
   "cell_type": "markdown",
   "id": "2b0e16b7",
   "metadata": {},
   "source": [
    "## Carregamento do Vídeo Original"
   ]
  },
  {
   "cell_type": "code",
   "execution_count": 13,
   "id": "d04e33cc",
   "metadata": {},
   "outputs": [
    {
     "data": {
      "text/plain": [
       "184.88"
      ]
     },
     "execution_count": 13,
     "metadata": {},
     "output_type": "execute_result"
    }
   ],
   "source": [
    "video = mp.VideoFileClip(\"video_original.mp4\")\n",
    "video.duration  # duração do vídeo em segundos"
   ]
  },
  {
   "cell_type": "markdown",
   "id": "7f065ffb",
   "metadata": {},
   "source": [
    "## Inversão da Imagem a Cada 20 Segundos (com NumPy)"
   ]
  },
  {
   "cell_type": "code",
   "execution_count": 14,
   "id": "21395c10",
   "metadata": {},
   "outputs": [],
   "source": [
    "def inverter_a_cada_20s(video):\n",
    "    def processar_frame(get_frame, t):\n",
    "        frame = get_frame(t)\n",
    "        if int(t // 20) % 2 == 1:\n",
    "            return np.fliplr(frame)  # Inversão horizontal com NumPy\n",
    "        return frame\n",
    "\n",
    "    return video.fl(processar_frame)"
   ]
  },
  {
   "cell_type": "markdown",
   "id": "6eaacf81",
   "metadata": {},
   "source": [
    "## Redução Gradual do Áudio"
   ]
  },
  {
   "cell_type": "code",
   "execution_count": 15,
   "id": "1c78ffc6",
   "metadata": {},
   "outputs": [],
   "source": [
    "def reduzir_audio(video):\n",
    "    audio = video.audio\n",
    "\n",
    "    def processar_audio(gf, t):\n",
    "        t = np.asarray(t)\n",
    "        fator = np.ones_like(t)\n",
    "\n",
    "        # volume decresce a cada 30s até zero nos últimos 10s\n",
    "        fator[t >= video.duration - 10] = 0\n",
    "        decaimento = (t // 30) * 0.1\n",
    "        fator = np.clip(1 - decaimento, 0, 1) * fator\n",
    "\n",
    "        return gf(t) * fator[:, np.newaxis]  # para áudio com múltiplos canais\n",
    "\n",
    "    novo_audio = audio.fl(processar_audio)\n",
    "    return video.set_audio(novo_audio)"
   ]
  },
  {
   "cell_type": "markdown",
   "id": "179de368",
   "metadata": {},
   "source": [
    "## Corte e Rearranjo"
   ]
  },
  {
   "cell_type": "code",
   "execution_count": 16,
   "id": "36219dec",
   "metadata": {},
   "outputs": [],
   "source": [
    "def reordenar(video):\n",
    "    parte1 = video.subclip(0, 60)\n",
    "    parte2 = video.subclip(80, video.duration)\n",
    "    parte3 = video.subclip(60, 80)\n",
    "    return mp.concatenate_videoclips([parte1, parte2, parte3])"
   ]
  },
  {
   "cell_type": "markdown",
   "id": "fad8c67d",
   "metadata": {},
   "source": [
    "## Aplicando as Transformações"
   ]
  },
  {
   "cell_type": "code",
   "execution_count": 17,
   "id": "412d0f1c",
   "metadata": {},
   "outputs": [],
   "source": [
    "video_transformado = inverter_a_cada_20s(video)\n",
    "video_transformado = reduzir_audio(video_transformado)\n",
    "video_final = reordenar(video_transformado)"
   ]
  },
  {
   "cell_type": "markdown",
   "id": "9024a504",
   "metadata": {},
   "source": [
    "## Exportando o Vídeo Final"
   ]
  },
  {
   "cell_type": "code",
   "execution_count": 18,
   "id": "69b085dc",
   "metadata": {},
   "outputs": [
    {
     "name": "stdout",
     "output_type": "stream",
     "text": [
      "Moviepy - Building video video_final.mp4.\n",
      "MoviePy - Writing audio in video_finalTEMP_MPY_wvf_snd.mp4\n"
     ]
    },
    {
     "name": "stderr",
     "output_type": "stream",
     "text": [
      "                                                                      \r"
     ]
    },
    {
     "name": "stdout",
     "output_type": "stream",
     "text": [
      "MoviePy - Done.\n",
      "Moviepy - Writing video video_final.mp4\n",
      "\n"
     ]
    },
    {
     "name": "stderr",
     "output_type": "stream",
     "text": [
      "                                                                 \r"
     ]
    },
    {
     "name": "stdout",
     "output_type": "stream",
     "text": [
      "Moviepy - Done !\n",
      "Moviepy - video ready video_final.mp4\n"
     ]
    }
   ],
   "source": [
    "video_final.write_videofile(\"video_final.mp4\", codec=\"libx264\", audio_codec=\"aac\")"
   ]
  }
 ],
 "metadata": {
  "kernelspec": {
   "display_name": ".venv",
   "language": "python",
   "name": "python3"
  },
  "language_info": {
   "codemirror_mode": {
    "name": "ipython",
    "version": 3
   },
   "file_extension": ".py",
   "mimetype": "text/x-python",
   "name": "python",
   "nbconvert_exporter": "python",
   "pygments_lexer": "ipython3",
   "version": "3.13.3"
  }
 },
 "nbformat": 4,
 "nbformat_minor": 5
}
